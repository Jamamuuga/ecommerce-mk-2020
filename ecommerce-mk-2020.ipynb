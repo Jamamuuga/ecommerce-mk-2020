{
 "cells": [
  {
   "cell_type": "code",
   "execution_count": null,
   "metadata": {},
   "outputs": [],
   "source": [
    "import pandas as pd\n",
    "import numpy as np\n",
    "import hvplot.pandas\n",
    "# Data from:\n",
    "# https://www.kaggle.com/datasets/mkechinov/ecommerce-behavior-data-from-multi-category-store\n",
    "# https://drive.google.com/drive/u/0/folders/1Nan8X33H8xrXS5XhCKZmSpClFTCJsSpE\n",
    "# License: Apache 2.0\n",
    "# Original Data License: free w/ attribution license as seen here: https://www.kaggle.com/datasets/mkechinov/ecommerce-behavior-data-from-multi-category-store Thanks to https://rees46.com for the CDP that made this possible.\n",
    "\n"
   ]
  }
 ],
 "metadata": {
  "interpreter": {
   "hash": "32957bfa618a669e75d48bdc471cb7d25f551be2ea41a51f3a46b6452f8dc003"
  },
  "kernelspec": {
   "display_name": "Python 3.9.11 ('base')",
   "language": "python",
   "name": "python3"
  },
  "language_info": {
   "name": "python",
   "version": "3.9.11"
  },
  "orig_nbformat": 4
 },
 "nbformat": 4,
 "nbformat_minor": 2
}
